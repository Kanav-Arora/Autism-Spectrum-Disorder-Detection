{
 "cells": [
  {
   "cell_type": "code",
   "execution_count": 1,
   "metadata": {},
   "outputs": [],
   "source": [
    "import glob\n",
    "import os\n",
    "from PIL import Image, ImageOps\n",
    "import numpy as np\n",
    "import pandas as pd\n",
    "import cv2\n",
    "from sklearn.model_selection import train_test_split\n",
    "from sklearn.preprocessing import LabelBinarizer\n",
    "import matplotlib.pyplot as plt"
   ]
  },
  {
   "cell_type": "code",
   "execution_count": 2,
   "metadata": {},
   "outputs": [],
   "source": [
    "dir = '/Users/kanavarora/Google Drive (kanavarora2002@gmail.com)/Git Files/ASD Detection/DataSet/Images/Autistic/train'\n",
    "ori_label = []\n",
    "ori_imgs = []\n",
    "\n",
    "for images in glob.iglob(f'{dir}/*'):\n",
    "        ori_label.append(1)\n",
    "        new_img = Image.open(images)\n",
    "        ori_imgs.append(ImageOps.fit(new_img, (64, 64), Image.ANTIALIAS).convert('RGB'))\n"
   ]
  },
  {
   "cell_type": "code",
   "execution_count": 3,
   "metadata": {},
   "outputs": [],
   "source": [
    "dir = '/Users/kanavarora/Google Drive (kanavarora2002@gmail.com)/Git Files/ASD Detection/DataSet/Images/Non_Autistic/train'\n",
    "\n",
    "for images in glob.iglob(f'{dir}/*'):\n",
    "        ori_label.append(0)\n",
    "        new_img = Image.open(images)\n",
    "        ori_imgs.append(ImageOps.fit(new_img, (64, 64), Image.ANTIALIAS).convert('RGB'))\n"
   ]
  },
  {
   "cell_type": "code",
   "execution_count": 4,
   "metadata": {},
   "outputs": [],
   "source": [
    "imgs = np.array([np.array(im) for im in ori_imgs])\n",
    "imgs = np.array([cv2.resize(im, (32,32)).flatten() for im in imgs])\n",
    "lb = LabelBinarizer().fit(ori_label)\n",
    "label = lb.transform(ori_label) "
   ]
  },
  {
   "cell_type": "code",
   "execution_count": 5,
   "metadata": {},
   "outputs": [],
   "source": [
    "dir = '/Users/kanavarora/Google Drive (kanavarora2002@gmail.com)/Git Files/ASD Detection/DataSet/Images/Autistic/test'\n",
    "test_imgs = []\n",
    "output = []\n",
    "\n",
    "for images in glob.iglob(f'{dir}/*'):\n",
    "        output.append(1)\n",
    "        new_img = Image.open(images)\n",
    "        test_imgs.append(ImageOps.fit(new_img, (64, 64), Image.ANTIALIAS).convert('RGB'))"
   ]
  },
  {
   "cell_type": "code",
   "execution_count": 6,
   "metadata": {},
   "outputs": [],
   "source": [
    "dir = '/Users/kanavarora/Google Drive (kanavarora2002@gmail.com)/Git Files/ASD Detection/DataSet/Images/Non_Autistic/test'\n",
    "\n",
    "for images in glob.iglob(f'{dir}/*'):\n",
    "        output.append(0)\n",
    "        new_img = Image.open(images)\n",
    "        test_imgs.append(ImageOps.fit(new_img, (64, 64), Image.ANTIALIAS).convert('RGB'))"
   ]
  },
  {
   "cell_type": "code",
   "execution_count": 7,
   "metadata": {},
   "outputs": [],
   "source": [
    "test_imgs = np.array([np.array(im) for im in test_imgs])\n",
    "test_imgs = np.array([cv2.resize(im, (32,32)).flatten() for im in test_imgs])\n",
    "test_lb = LabelBinarizer().fit(output)\n",
    "test_label = lb.transform(output) "
   ]
  },
  {
   "cell_type": "code",
   "execution_count": 9,
   "metadata": {},
   "outputs": [],
   "source": [
    "from TVSVM import TwinSVMClassifier"
   ]
  },
  {
   "cell_type": "code",
   "execution_count": 10,
   "metadata": {},
   "outputs": [
    {
     "data": {
      "text/plain": [
       "TwinSVMClassifier()"
      ]
     },
     "execution_count": 10,
     "metadata": {},
     "output_type": "execute_result"
    }
   ],
   "source": [
    "clf = TwinSVMClassifier()\n",
    "clf.fit(imgs,label)"
   ]
  },
  {
   "cell_type": "code",
   "execution_count": 11,
   "metadata": {},
   "outputs": [],
   "source": [
    "y_pred = clf.predict(test_imgs)"
   ]
  },
  {
   "cell_type": "code",
   "execution_count": 12,
   "metadata": {},
   "outputs": [],
   "source": [
    "from sklearn.metrics import accuracy_score"
   ]
  },
  {
   "cell_type": "code",
   "execution_count": 14,
   "metadata": {},
   "outputs": [
    {
     "name": "stdout",
     "output_type": "stream",
     "text": [
      "Accuracy: 54.44839857651246\n"
     ]
    }
   ],
   "source": [
    "print(\"Accuracy:\",accuracy_score(test_label, y_pred)*100)"
   ]
  }
 ],
 "metadata": {
  "interpreter": {
   "hash": "aee8b7b246df8f9039afb4144a1f6fd8d2ca17a180786b69acc140d282b71a49"
  },
  "kernelspec": {
   "display_name": "Python 3.9.10 64-bit",
   "language": "python",
   "name": "python3"
  },
  "language_info": {
   "codemirror_mode": {
    "name": "ipython",
    "version": 3
   },
   "file_extension": ".py",
   "mimetype": "text/x-python",
   "name": "python",
   "nbconvert_exporter": "python",
   "pygments_lexer": "ipython3",
   "version": "3.9.10"
  },
  "orig_nbformat": 4
 },
 "nbformat": 4,
 "nbformat_minor": 2
}
