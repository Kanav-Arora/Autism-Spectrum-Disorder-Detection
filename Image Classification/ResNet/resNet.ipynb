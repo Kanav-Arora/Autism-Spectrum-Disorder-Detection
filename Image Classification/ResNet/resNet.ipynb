{
 "cells": [
  {
   "cell_type": "code",
   "execution_count": 27,
   "metadata": {},
   "outputs": [],
   "source": [
    "import glob\n",
    "import os\n",
    "from PIL import Image, ImageOps\n",
    "import numpy as np\n",
    "import pandas as pd\n",
    "import cv2\n",
    "from sklearn.model_selection import train_test_split\n",
    "from sklearn.preprocessing import LabelBinarizer\n",
    "\n",
    "from keras.layers import Dropout, Input, Dense, Activation,GlobalMaxPooling2D, BatchNormalization, Flatten, Conv2D, MaxPooling2D\n",
    "from keras.models import Model, load_model\n",
    "from tensorflow.keras.optimizers import Adam\n",
    "import keras\n",
    "from tensorflow.keras.applications.resnet50 import ResNet50\n",
    "from keras.applications.mobilenet import MobileNet\n",
    "from tensorflow.keras.applications.resnet50 import preprocess_input, decode_predictions\n",
    "from keras.callbacks import LearningRateScheduler, EarlyStopping\n",
    "from keras.callbacks import ModelCheckpoint\n",
    "import matplotlib.pyplot as plt"
   ]
  },
  {
   "cell_type": "code",
   "execution_count": 44,
   "metadata": {},
   "outputs": [],
   "source": [
    "dir = './DataSet/Images/Autistic/train/'\n",
    "ori_label = []\n",
    "ori_imgs = []\n",
    "\n",
    "for images in glob.iglob(f'{dir}/*'):\n",
    "        ori_label.append(1)\n",
    "        new_img = Image.open(images)\n",
    "        ori_imgs.append(ImageOps.fit(new_img, (64, 64), Image.ANTIALIAS).convert('RGB'))\n"
   ]
  },
  {
   "cell_type": "code",
   "execution_count": 45,
   "metadata": {},
   "outputs": [],
   "source": [
    "dir = './DataSet/Images/Non_Autistic/train/'\n",
    "\n",
    "for images in glob.iglob(f'{dir}/*'):\n",
    "        ori_label.append(0)\n",
    "        new_img = Image.open(images)\n",
    "        ori_imgs.append(ImageOps.fit(new_img, (64, 64), Image.ANTIALIAS).convert('RGB'))\n"
   ]
  },
  {
   "cell_type": "code",
   "execution_count": 46,
   "metadata": {},
   "outputs": [
    {
     "data": {
      "text/plain": [
       "2335"
      ]
     },
     "execution_count": 46,
     "metadata": {},
     "output_type": "execute_result"
    }
   ],
   "source": [
    "len(ori_imgs)"
   ]
  },
  {
   "cell_type": "code",
   "execution_count": 47,
   "metadata": {},
   "outputs": [],
   "source": [
    "imgs = np.array([np.array(im) for im in ori_imgs])\n",
    "imgs = imgs.reshape(imgs.shape[0], 64,64, 3) / 255\n",
    "lb = LabelBinarizer().fit(ori_label)\n",
    "label = lb.transform(ori_label) "
   ]
  },
  {
   "cell_type": "code",
   "execution_count": 48,
   "metadata": {},
   "outputs": [],
   "source": [
    "trainX, validX, trainY, validY = train_test_split(imgs, label, test_size=0.05, random_state=42)"
   ]
  },
  {
   "cell_type": "code",
   "execution_count": 49,
   "metadata": {},
   "outputs": [
    {
     "data": {
      "text/plain": [
       "((2218, 64, 64, 3), (117, 64, 64, 3), (2218, 1), (117, 1))"
      ]
     },
     "execution_count": 49,
     "metadata": {},
     "output_type": "execute_result"
    }
   ],
   "source": [
    "trainX.shape , validX.shape ,trainY.shape , validY.shape"
   ]
  },
  {
   "cell_type": "code",
   "execution_count": 54,
   "metadata": {},
   "outputs": [
    {
     "name": "stdout",
     "output_type": "stream",
     "text": [
      "Epoch 1/90\n",
      "70/70 [==============================] - ETA: 0s - loss: 1.5162 - accuracy: 0.6353\n",
      "Epoch 1: val_loss improved from inf to 16537184.00000, saving model to model.h5\n",
      "70/70 [==============================] - 91s 1s/step - loss: 1.5162 - accuracy: 0.6353 - val_loss: 16537184.0000 - val_accuracy: 0.4615 - lr: 0.0010\n",
      "Epoch 2/90\n",
      "70/70 [==============================] - ETA: 0s - loss: 0.8809 - accuracy: 0.6880\n",
      "Epoch 2: val_loss improved from 16537184.00000 to 0.75769, saving model to model.h5\n",
      "70/70 [==============================] - 84s 1s/step - loss: 0.8809 - accuracy: 0.6880 - val_loss: 0.7577 - val_accuracy: 0.5385 - lr: 8.0000e-04\n",
      "Epoch 3/90\n",
      "70/70 [==============================] - ETA: 0s - loss: 0.6960 - accuracy: 0.7029\n",
      "Epoch 3: val_loss did not improve from 0.75769\n",
      "70/70 [==============================] - 84s 1s/step - loss: 0.6960 - accuracy: 0.7029 - val_loss: 14.5132 - val_accuracy: 0.5385 - lr: 6.4000e-04\n",
      "Epoch 4/90\n",
      "70/70 [==============================] - ETA: 0s - loss: 0.6198 - accuracy: 0.7182\n",
      "Epoch 4: val_loss did not improve from 0.75769\n",
      "70/70 [==============================] - 83s 1s/step - loss: 0.6198 - accuracy: 0.7182 - val_loss: 0.8587 - val_accuracy: 0.4615 - lr: 5.1200e-04\n",
      "Epoch 5/90\n",
      "70/70 [==============================] - ETA: 0s - loss: 0.5259 - accuracy: 0.7692\n",
      "Epoch 5: val_loss improved from 0.75769 to 0.71596, saving model to model.h5\n",
      "70/70 [==============================] - 85s 1s/step - loss: 0.5259 - accuracy: 0.7692 - val_loss: 0.7160 - val_accuracy: 0.4615 - lr: 4.0960e-04\n",
      "Epoch 6/90\n",
      "70/70 [==============================] - ETA: 0s - loss: 0.3619 - accuracy: 0.8345\n",
      "Epoch 6: val_loss improved from 0.71596 to 0.70520, saving model to model.h5\n",
      "70/70 [==============================] - 83s 1s/step - loss: 0.3619 - accuracy: 0.8345 - val_loss: 0.7052 - val_accuracy: 0.4615 - lr: 3.2768e-04\n",
      "Epoch 7/90\n",
      "70/70 [==============================] - ETA: 0s - loss: 0.3229 - accuracy: 0.8607\n",
      "Epoch 7: val_loss improved from 0.70520 to 0.68102, saving model to model.h5\n",
      "70/70 [==============================] - 89s 1s/step - loss: 0.3229 - accuracy: 0.8607 - val_loss: 0.6810 - val_accuracy: 0.5897 - lr: 2.6214e-04\n",
      "Epoch 8/90\n",
      "70/70 [==============================] - ETA: 0s - loss: 0.2350 - accuracy: 0.9071\n",
      "Epoch 8: val_loss did not improve from 0.68102\n",
      "70/70 [==============================] - 85s 1s/step - loss: 0.2350 - accuracy: 0.9071 - val_loss: 0.6905 - val_accuracy: 0.5299 - lr: 2.0972e-04\n",
      "Epoch 9/90\n",
      "70/70 [==============================] - ETA: 0s - loss: 0.1233 - accuracy: 0.9513\n",
      "Epoch 9: val_loss did not improve from 0.68102\n",
      "70/70 [==============================] - 86s 1s/step - loss: 0.1233 - accuracy: 0.9513 - val_loss: 0.6938 - val_accuracy: 0.5470 - lr: 1.6777e-04\n",
      "Epoch 10/90\n",
      "70/70 [==============================] - ETA: 0s - loss: 0.0632 - accuracy: 0.9802\n",
      "Epoch 10: val_loss improved from 0.68102 to 0.65620, saving model to model.h5\n",
      "70/70 [==============================] - 84s 1s/step - loss: 0.0632 - accuracy: 0.9802 - val_loss: 0.6562 - val_accuracy: 0.5983 - lr: 1.3422e-04\n",
      "Epoch 11/90\n",
      "70/70 [==============================] - ETA: 0s - loss: 0.0478 - accuracy: 0.9851\n",
      "Epoch 11: val_loss did not improve from 0.65620\n",
      "70/70 [==============================] - 82s 1s/step - loss: 0.0478 - accuracy: 0.9851 - val_loss: 1.0405 - val_accuracy: 0.4615 - lr: 1.0737e-04\n",
      "Epoch 12/90\n",
      "70/70 [==============================] - ETA: 0s - loss: 0.0254 - accuracy: 0.9955\n",
      "Epoch 12: val_loss did not improve from 0.65620\n",
      "70/70 [==============================] - 84s 1s/step - loss: 0.0254 - accuracy: 0.9955 - val_loss: 1.3317 - val_accuracy: 0.5470 - lr: 8.5899e-05\n",
      "Epoch 13/90\n",
      "70/70 [==============================] - ETA: 0s - loss: 0.0159 - accuracy: 0.9977\n",
      "Epoch 13: val_loss did not improve from 0.65620\n",
      "70/70 [==============================] - 89s 1s/step - loss: 0.0159 - accuracy: 0.9977 - val_loss: 1.1117 - val_accuracy: 0.6752 - lr: 6.8719e-05\n",
      "Epoch 14/90\n",
      "70/70 [==============================] - ETA: 0s - loss: 0.0106 - accuracy: 0.9986\n",
      "Epoch 14: val_loss did not improve from 0.65620\n",
      "70/70 [==============================] - 83s 1s/step - loss: 0.0106 - accuracy: 0.9986 - val_loss: 0.9744 - val_accuracy: 0.7009 - lr: 5.4976e-05\n",
      "Epoch 15/90\n",
      "70/70 [==============================] - ETA: 0s - loss: 0.0104 - accuracy: 0.9991\n",
      "Epoch 15: val_loss did not improve from 0.65620\n",
      "70/70 [==============================] - 80s 1s/step - loss: 0.0104 - accuracy: 0.9991 - val_loss: 0.9781 - val_accuracy: 0.7265 - lr: 4.3980e-05\n"
     ]
    }
   ],
   "source": [
    "image_input=Input(shape=(64,64,3))\n",
    "# create the base pre-trained model\n",
    "#base_model = ResNet50(input_tensor=image_input,weights='imagenet', include_top=False)\n",
    "\n",
    "base_model = ResNet50(input_tensor=image_input,weights='imagenet', include_top=False)\n",
    "\n",
    "x = base_model.output\n",
    "x = Flatten()(x)\n",
    "predictions = Dense(1, activation='sigmoid')(x)\n",
    "model = Model(inputs=base_model.input, outputs=predictions)\n",
    "model.compile(optimizer=Adam(lr=1e-4), loss='binary_crossentropy',metrics=['accuracy'])\n",
    "batch_size = 32\n",
    "annealer = LearningRateScheduler(lambda x: 1e-3 * 0.8 ** x)\n",
    "earlystop = EarlyStopping(patience=5)\n",
    "modelsave = ModelCheckpoint(\n",
    "    filepath='model.h5', save_best_only=True, verbose=1)\n",
    "history = model.fit(\n",
    "    trainX, trainY, batch_size=batch_size,\n",
    "    epochs=90, \n",
    "    validation_data=(validX, validY),\n",
    "    callbacks=[annealer, earlystop, modelsave]\n",
    ")"
   ]
  },
  {
   "cell_type": "code",
   "execution_count": 55,
   "metadata": {},
   "outputs": [
    {
     "data": {
      "image/png": "[encoded data removed]",
      "text/plain": [
       "<Figure size 864x288 with 2 Axes>"
      ]
     },
     "metadata": {
      "needs_background": "light"
     },
     "output_type": "display_data"
    }
   ],
   "source": [
    "def printHistory(history,):\n",
    "    f, (ax1, ax2) = plt.subplots(1, 2, figsize=(12, 4))\n",
    "    f.subplots_adjust(top=0.85, wspace=0.3)\n",
    "\n",
    "    ax1.plot( history.history['accuracy'], label='Train Accuracy')\n",
    "    ax1.plot( history.history['val_accuracy'], label='Validation Accuracy')\n",
    "    ax1.set_ylabel('Accuracy Value')\n",
    "    ax1.set_xlabel('Epoch')\n",
    "    ax1.set_title('Accuracy')\n",
    "    l1 = ax1.legend(loc=\"best\")\n",
    "\n",
    "    ax2.plot( history.history['loss'], label='Train Loss')\n",
    "    ax2.plot( history.history['val_loss'], label='Validation Loss')\n",
    "    ax2.set_ylabel('Loss Value')\n",
    "    ax2.set_xlabel('Epoch')\n",
    "    ax2.set_title('Loss')\n",
    "    l2 = ax2.legend(loc=\"best\")\n",
    "    \n",
    "printHistory(history)"
   ]
  },
  {
   "cell_type": "code",
   "execution_count": 56,
   "metadata": {},
   "outputs": [],
   "source": [
    "dir = './DataSet/Images/Autistic/test/'\n",
    "test_imgs = []\n",
    "output = []\n",
    "\n",
    "for images in glob.iglob(f'{dir}/*'):\n",
    "        output.append(1)\n",
    "        new_img = Image.open(images)\n",
    "        test_imgs.append(ImageOps.fit(new_img, (64, 64), Image.ANTIALIAS).convert('RGB'))"
   ]
  },
  {
   "cell_type": "code",
   "execution_count": 57,
   "metadata": {},
   "outputs": [],
   "source": [
    "dir = './DataSet/Images/Non_Autistic/test/'\n",
    "\n",
    "for images in glob.iglob(f'{dir}/*'):\n",
    "        output.append(0)\n",
    "        new_img = Image.open(images)\n",
    "        test_imgs.append(ImageOps.fit(new_img, (64, 64), Image.ANTIALIAS).convert('RGB'))"
   ]
  },
  {
   "cell_type": "code",
   "execution_count": 59,
   "metadata": {},
   "outputs": [],
   "source": [
    "model = load_model('model.h5')"
   ]
  },
  {
   "cell_type": "code",
   "execution_count": 60,
   "metadata": {},
   "outputs": [],
   "source": [
    "timgs = np.array([np.array(im) for im in test_imgs])\n",
    "testX = timgs.reshape(timgs.shape[0], 64, 64, 3) / 255"
   ]
  },
  {
   "cell_type": "code",
   "execution_count": 61,
   "metadata": {},
   "outputs": [],
   "source": [
    "yhat = model.predict(testX)\n",
    "test_y = lb.inverse_transform(yhat)"
   ]
  },
  {
   "cell_type": "code",
   "execution_count": 63,
   "metadata": {},
   "outputs": [],
   "source": [
    "from sklearn.metrics import accuracy_score"
   ]
  },
  {
   "cell_type": "code",
   "execution_count": 64,
   "metadata": {},
   "outputs": [
    {
     "data": {
      "text/plain": [
       "0.5800711743772242"
      ]
     },
     "execution_count": 64,
     "metadata": {},
     "output_type": "execute_result"
    }
   ],
   "source": [
    "accuracy_score(output, test_y)"
   ]
  }
 ],
 "metadata": {
  "interpreter": {
   "hash": "aee8b7b246df8f9039afb4144a1f6fd8d2ca17a180786b69acc140d282b71a49"
  },
  "kernelspec": {
   "display_name": "Python 3.9.10 64-bit",
   "language": "python",
   "name": "python3"
  },
  "language_info": {
   "codemirror_mode": {
    "name": "ipython",
    "version": 3
   },
   "file_extension": ".py",
   "mimetype": "text/x-python",
   "name": "python",
   "nbconvert_exporter": "python",
   "pygments_lexer": "ipython3",
   "version": "3.9.10"
  },
  "orig_nbformat": 4
 },
 "nbformat": 4,
 "nbformat_minor": 2
}
