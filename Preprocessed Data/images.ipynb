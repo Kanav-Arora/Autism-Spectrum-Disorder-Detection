{
 "cells": [
  {
   "cell_type": "code",
   "execution_count": 1,
   "id": "66283f8c-8b5a-45c7-aa7e-f6a398e45447",
   "metadata": {},
   "outputs": [],
   "source": [
    "import pandas as pd\n",
    "import numpy as np\n",
    "import os\n",
    "import cv2\n",
    "from ast import literal_eval\n",
    "import matplotlib.pyplot as plt"
   ]
  },
  {
   "cell_type": "code",
   "execution_count": 5,
   "id": "d99bc8e4-54e7-43bd-82c6-8641db33f1c1",
   "metadata": {},
   "outputs": [],
   "source": [
    "dir = \"../DataSet/Images/Autistic/\"\n",
    "data = pd.DataFrame(columns= ['Images'])\n",
    "for filename in os.listdir(dir):\n",
    "    f = os.path.join(dir, filename)\n",
    "    if os.path.isfile(f):\n",
    "        img = cv2.imread(f)\n",
    "        df = pd.DataFrame({'Images' : [[img]], 'Class/ASD' :  1})\n",
    "        frame = [data,df]\n",
    "        data = pd.concat(frame)"
   ]
  },
  {
   "cell_type": "code",
   "execution_count": 6,
   "id": "ff0b1ef7",
   "metadata": {},
   "outputs": [],
   "source": [
    "dir = \"../DataSet/Images/Non_Autistic/\"\n",
    "for filename in os.listdir(dir):\n",
    "    f = os.path.join(dir, filename)\n",
    "    if os.path.isfile(f):\n",
    "        img = cv2.imread(f)\n",
    "        dic = {'Images' : [[img]], 'Class/ASD' : 0}\n",
    "        df = pd.DataFrame(dic)\n",
    "        frame = [data,df]\n",
    "        data = pd.concat(frame)"
   ]
  },
  {
   "cell_type": "code",
   "execution_count": 7,
   "id": "d044aa82",
   "metadata": {},
   "outputs": [],
   "source": [
    "data.to_csv('../DataSet/Images/data.csv')"
   ]
  },
  {
   "cell_type": "code",
   "execution_count": 6,
   "id": "0c458af6",
   "metadata": {},
   "outputs": [
    {
     "data": {
      "text/html": [
       "<div>\n",
       "<style scoped>\n",
       "    .dataframe tbody tr th:only-of-type {\n",
       "        vertical-align: middle;\n",
       "    }\n",
       "\n",
       "    .dataframe tbody tr th {\n",
       "        vertical-align: top;\n",
       "    }\n",
       "\n",
       "    .dataframe thead th {\n",
       "        text-align: right;\n",
       "    }\n",
       "</style>\n",
       "<table border=\"1\" class=\"dataframe\">\n",
       "  <thead>\n",
       "    <tr style=\"text-align: right;\">\n",
       "      <th></th>\n",
       "      <th>Images</th>\n",
       "      <th>Class/ASD</th>\n",
       "    </tr>\n",
       "  </thead>\n",
       "  <tbody>\n",
       "    <tr>\n",
       "      <th>0</th>\n",
       "      <td>[[[[ 29 108 165], [ 27 106 163], [ 26 105 162]...</td>\n",
       "      <td>1.0</td>\n",
       "    </tr>\n",
       "    <tr>\n",
       "      <th>0</th>\n",
       "      <td>[[[[221 211 223], [213 206 219], [202 200 212]...</td>\n",
       "      <td>1.0</td>\n",
       "    </tr>\n",
       "    <tr>\n",
       "      <th>0</th>\n",
       "      <td>[[[[178 252 252], [176 252 255], [168 246 255]...</td>\n",
       "      <td>1.0</td>\n",
       "    </tr>\n",
       "    <tr>\n",
       "      <th>0</th>\n",
       "      <td>[[[[250 253 251], [249 252 250], [247 250 248]...</td>\n",
       "      <td>1.0</td>\n",
       "    </tr>\n",
       "    <tr>\n",
       "      <th>0</th>\n",
       "      <td>[[[[ 69 122  78], [ 69 124  75], [ 67 125  71]...</td>\n",
       "      <td>1.0</td>\n",
       "    </tr>\n",
       "  </tbody>\n",
       "</table>\n",
       "</div>"
      ],
      "text/plain": [
       "                                              Images  Class/ASD\n",
       "0  [[[[ 29 108 165], [ 27 106 163], [ 26 105 162]...        1.0\n",
       "0  [[[[221 211 223], [213 206 219], [202 200 212]...        1.0\n",
       "0  [[[[178 252 252], [176 252 255], [168 246 255]...        1.0\n",
       "0  [[[[250 253 251], [249 252 250], [247 250 248]...        1.0\n",
       "0  [[[[ 69 122  78], [ 69 124  75], [ 67 125  71]...        1.0"
      ]
     },
     "execution_count": 6,
     "metadata": {},
     "output_type": "execute_result"
    }
   ],
   "source": [
    "data.head()"
   ]
  },
  {
   "cell_type": "code",
   "execution_count": 8,
   "id": "12790bce",
   "metadata": {},
   "outputs": [],
   "source": [
    "data = pd.read_csv('../DataSet/Images/data.csv')"
   ]
  },
  {
   "cell_type": "code",
   "execution_count": null,
   "id": "c9c71821",
   "metadata": {},
   "outputs": [],
   "source": []
  }
 ],
 "metadata": {
  "kernelspec": {
   "display_name": "Python 3 (ipykernel)",
   "language": "python",
   "name": "python3"
  },
  "language_info": {
   "codemirror_mode": {
    "name": "ipython",
    "version": 3
   },
   "file_extension": ".py",
   "mimetype": "text/x-python",
   "name": "python",
   "nbconvert_exporter": "python",
   "pygments_lexer": "ipython3",
   "version": "3.9.10"
  }
 },
 "nbformat": 4,
 "nbformat_minor": 5
}
